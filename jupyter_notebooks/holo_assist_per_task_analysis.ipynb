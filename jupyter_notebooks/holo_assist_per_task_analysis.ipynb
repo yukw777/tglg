{
 "cells": [
  {
   "cell_type": "markdown",
   "id": "0",
   "metadata": {},
   "source": [
    "# HoloAssist Per-Task Analysis"
   ]
  },
  {
   "cell_type": "code",
   "execution_count": null,
   "id": "1",
   "metadata": {},
   "outputs": [],
   "source": [
    "# Read data\n",
    "import pandas as pd\n",
    "\n",
    "vlm_tsi_df = pd.read_csv(\n",
    "    \"../ego4d-goalstep+vlm-tsi+step=10492+use_narration+per_task.csv\"\n",
    ")\n",
    "videollm_online_df = pd.read_csv(\n",
    "    \"../holo-assist+videollm-online+threshold=0.8+use_narration+per_task.csv\"\n",
    ")"
   ]
  },
  {
   "cell_type": "code",
   "execution_count": null,
   "id": "2",
   "metadata": {},
   "outputs": [],
   "source": [
    "# print out tasks\n",
    "assert set(vlm_tsi_df[\"task_type\"].unique()) == set(\n",
    "    videollm_online_df[\"task_type\"].unique()\n",
    ")\n",
    "print(vlm_tsi_df[\"task_type\"].unique())"
   ]
  },
  {
   "cell_type": "code",
   "execution_count": null,
   "id": "3",
   "metadata": {},
   "outputs": [],
   "source": [
    "# group tasks\n",
    "task_groups = {\n",
    "    \"Setup Electronics\": [\n",
    "        \"setup camera\",\n",
    "        \"setup switch\",\n",
    "        \"setup big printer\",\n",
    "        \"setup small printer\",\n",
    "        \"setup gopro\",\n",
    "        \"assemble laser scanner\",\n",
    "        \"assemble computer\",\n",
    "    ],\n",
    "    \"Make Coffee\": [\n",
    "        \"make coffee with nespresso machine\",\n",
    "        \"make coffee with espresso machine\",\n",
    "    ],\n",
    "    \"Repair Machinery\": [\"change belt\", \"change circuit breaker\", \"fix motorcycle\"],\n",
    "    \"Assemble Furniture\": [\n",
    "        \"assemble nightstand\",\n",
    "        \"assemble stool\",\n",
    "        \"assemble tray table\",\n",
    "        \"assemble utility cart\",\n",
    "    ],\n",
    "    \"Disassemble Furniture\": [\n",
    "        \"disassemble nightstand\",\n",
    "        \"disassemble stool\",\n",
    "        \"disassemble tray table\",\n",
    "        \"disassemble utility cart\",\n",
    "    ],\n",
    "}"
   ]
  },
  {
   "cell_type": "code",
   "execution_count": null,
   "id": "4",
   "metadata": {},
   "outputs": [],
   "source": [
    "# compute stats per task group\n",
    "from pprint import pprint\n",
    "\n",
    "\n",
    "def compute_stats(df):\n",
    "    results = {}\n",
    "    for group, tasks in task_groups.items():\n",
    "        subset = df[df[\"task_type\"].isin(tasks)]\n",
    "        if subset.empty:\n",
    "            continue\n",
    "        results[group] = {\n",
    "            \"num_tasks\": len(subset),\n",
    "            \"mean_semantic\": float(subset[\"mean_acc_f1_adjusted\"].mean()),\n",
    "            \"mean_timing\": float(subset[\"mean_timing_f1_adjusted\"].mean()),\n",
    "            \"TRACE\": float(subset[\"final_score\"].mean()),\n",
    "        }\n",
    "    return results\n",
    "\n",
    "\n",
    "vlm_tsi_stats = compute_stats(vlm_tsi_df)\n",
    "print(\"VLM-TSI\")\n",
    "pprint(vlm_tsi_stats)\n",
    "videollm_online_stats = compute_stats(videollm_online_df)\n",
    "print(\"VideoLLM-Online\")\n",
    "pprint(videollm_online_stats)"
   ]
  },
  {
   "cell_type": "code",
   "execution_count": null,
   "id": "5",
   "metadata": {},
   "outputs": [],
   "source": [
    "# calculate VLM-TSI - VideoLLM-Online per task group\n",
    "diff_per_task_group = {}\n",
    "for task_group in vlm_tsi_stats:\n",
    "    diff_per_task_group[task_group] = {}\n",
    "    diff_per_task_group[task_group][\"TRACE\"] = (\n",
    "        vlm_tsi_stats[task_group][\"TRACE\"] - videollm_online_stats[task_group][\"TRACE\"]\n",
    "    )\n",
    "    diff_per_task_group[task_group][\"mean_semantic\"] = (\n",
    "        vlm_tsi_stats[task_group][\"mean_semantic\"]\n",
    "        - videollm_online_stats[task_group][\"mean_semantic\"]\n",
    "    )\n",
    "    diff_per_task_group[task_group][\"mean_timing\"] = (\n",
    "        vlm_tsi_stats[task_group][\"mean_timing\"]\n",
    "        - videollm_online_stats[task_group][\"mean_timing\"]\n",
    "    )\n",
    "    diff_per_task_group[task_group][\"num_tasks\"] = vlm_tsi_stats[task_group][\n",
    "        \"num_tasks\"\n",
    "    ]\n",
    "print(\"VLM-TSI - VideoLLM-Online\")\n",
    "pprint(diff_per_task_group)"
   ]
  }
 ],
 "metadata": {
  "kernelspec": {
   "display_name": ".venv",
   "language": "python",
   "name": "python3"
  },
  "language_info": {
   "codemirror_mode": {
    "name": "ipython",
    "version": 3
   },
   "file_extension": ".py",
   "mimetype": "text/x-python",
   "name": "python",
   "nbconvert_exporter": "python",
   "pygments_lexer": "ipython3",
   "version": "3.10.12"
  }
 },
 "nbformat": 4,
 "nbformat_minor": 5
}
