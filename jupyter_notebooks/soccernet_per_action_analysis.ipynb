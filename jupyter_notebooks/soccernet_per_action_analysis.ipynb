{
 "cells": [
  {
   "cell_type": "markdown",
   "id": "0",
   "metadata": {},
   "source": [
    "# SoccerNet Per-Action Analysis"
   ]
  },
  {
   "cell_type": "code",
   "execution_count": null,
   "id": "1",
   "metadata": {},
   "outputs": [],
   "source": [
    "# Read data\n",
    "import pandas as pd\n",
    "\n",
    "vlm_tsi_df = pd.read_csv(\"../soccernet+vlm-tsi+step=825+per_action.csv\")\n",
    "videollm_online_df = pd.read_csv(\n",
    "    \"../soccernet+videollm-online+threshold=default+per_action.csv\"\n",
    ")"
   ]
  },
  {
   "cell_type": "code",
   "execution_count": null,
   "id": "2",
   "metadata": {},
   "outputs": [],
   "source": [
    "# print out actions\n",
    "print(f\"VLM-TSI: {vlm_tsi_df['action']}\")\n",
    "print(f\"VideoLLM-Online: {videollm_online_df['action']}\")\n",
    "print(\n",
    "    f\"VLM-TSI - VideoLLM-Online: {set(vlm_tsi_df['action']) - set(videollm_online_df['action'])}\"\n",
    ")\n",
    "print(\n",
    "    f\"VideoLLM-Online - VLM-TSI: {set(videollm_online_df['action']) - set(vlm_tsi_df['action'])}\"\n",
    ")"
   ]
  },
  {
   "cell_type": "code",
   "execution_count": null,
   "id": "3",
   "metadata": {},
   "outputs": [],
   "source": [
    "# group actions\n",
    "action_groups = {\n",
    "    \"Restarts\": [\n",
    "        \"Kick-off\",\n",
    "        \"Ball out of play\",\n",
    "        \"Throw-in\",\n",
    "        \"Corner\",\n",
    "        \"Direct free-kick\",\n",
    "        \"Indirect free-kick\",\n",
    "    ],\n",
    "    \"Attempts\": [\"Shots on target\", \"Shots off target\", \"Clearance\"],\n",
    "    \"Infractions\": [\"Offside\", \"Foul\"],\n",
    "    \"Discipline\": [\"Yellow card\", \"Red card\", \"Yellow->red card\"],\n",
    "    \"Goal/Penalty\": [\"Goal\", \"Penalty\"],\n",
    "    \"Substitution\": [\"Substitution\"],\n",
    "}"
   ]
  },
  {
   "cell_type": "code",
   "execution_count": null,
   "id": "4",
   "metadata": {},
   "outputs": [],
   "source": [
    "# compute stats per action group\n",
    "from pprint import pprint\n",
    "\n",
    "\n",
    "def compute_stats(df):\n",
    "    results = {}\n",
    "    for group, actions in action_groups.items():\n",
    "        subset = df[df[\"action\"].isin(actions)]\n",
    "        if subset.empty:\n",
    "            continue\n",
    "        results[group] = {\n",
    "            \"num_tasks\": len(subset),\n",
    "            \"mean_semantic\": float(subset[\"mean_acc_f1_adjusted\"].mean()),\n",
    "            \"mean_timing\": float(subset[\"mean_timing_f1_adjusted\"].mean()),\n",
    "            \"TRACE\": float(subset[\"final_score\"].mean()),\n",
    "        }\n",
    "    return results\n",
    "\n",
    "\n",
    "vlm_tsi_stats = compute_stats(vlm_tsi_df)\n",
    "print(\"VLM-TSI\")\n",
    "pprint(vlm_tsi_stats)\n",
    "videollm_online_stats = compute_stats(videollm_online_df)\n",
    "print(\"VideoLLM-Online\")\n",
    "pprint(videollm_online_stats)"
   ]
  },
  {
   "cell_type": "code",
   "execution_count": null,
   "id": "5",
   "metadata": {},
   "outputs": [],
   "source": [
    "# calculate VLM-TSI - VideoLLM-Online per task group\n",
    "diff_per_task_group = {}\n",
    "for task_group in vlm_tsi_stats:\n",
    "    diff_per_task_group[task_group] = {}\n",
    "    diff_per_task_group[task_group][\"TRACE\"] = (\n",
    "        vlm_tsi_stats[task_group][\"TRACE\"] - videollm_online_stats[task_group][\"TRACE\"]\n",
    "    )\n",
    "    diff_per_task_group[task_group][\"mean_semantic\"] = (\n",
    "        vlm_tsi_stats[task_group][\"mean_semantic\"]\n",
    "        - videollm_online_stats[task_group][\"mean_semantic\"]\n",
    "    )\n",
    "    diff_per_task_group[task_group][\"mean_timing\"] = (\n",
    "        vlm_tsi_stats[task_group][\"mean_timing\"]\n",
    "        - videollm_online_stats[task_group][\"mean_timing\"]\n",
    "    )\n",
    "    diff_per_task_group[task_group][\"num_tasks\"] = vlm_tsi_stats[task_group][\n",
    "        \"num_tasks\"\n",
    "    ]\n",
    "print(\"VLM-TSI - VideoLLM-Online\")\n",
    "pprint(diff_per_task_group)"
   ]
  }
 ],
 "metadata": {
  "kernelspec": {
   "display_name": ".venv",
   "language": "python",
   "name": "python3"
  },
  "language_info": {
   "codemirror_mode": {
    "name": "ipython",
    "version": 3
   },
   "file_extension": ".py",
   "mimetype": "text/x-python",
   "name": "python",
   "nbconvert_exporter": "python",
   "pygments_lexer": "ipython3",
   "version": "3.10.12"
  }
 },
 "nbformat": 4,
 "nbformat_minor": 5
}
